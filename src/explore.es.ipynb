{
    "cells": [
        {
            "cell_type": "markdown",
            "metadata": {},
            "source": [
                "# Explora aquí\n",
                "\n",
                "Se recomienda utilizar este cuaderno con fines de exploración."
            ]
        },
        {
            "cell_type": "code",
            "execution_count": 10,
            "metadata": {},
            "outputs": [
                {
                    "name": "stdout",
                    "output_type": "stream",
                    "text": [
                        "yes\n",
                        "Tabla encontrada\n",
                        "Encabezados: ['Year', 'Revenue', 'Change']\n",
                        "['2024', '$97.69 B', '0.95%']\n",
                        "['2023', '$96.77 B', '18.8%']\n",
                        "['2022', '$81.46 B', '51.35%']\n",
                        "['2021', '$53.82 B', '70.67%']\n",
                        "['2020', '$31.53 B', '28.31%']\n",
                        "['2019', '$24.57 B', '14.52%']\n",
                        "['2018', '$21.46 B', '82.51%']\n",
                        "['2017', '$11.75 B', '67.98%']\n",
                        "['2016', '$7.00 B', '73.01%']\n",
                        "['2015', '$4.04 B', '26.5%']\n",
                        "['2014', '$3.19 B', '58.85%']\n",
                        "['2013', '$2.01 B', '387.23%']\n",
                        "['2012', '$0.41 B', '102.34%']\n",
                        "['2011', '$0.20 B', '74.95%']\n",
                        "['2010', '$0.11 B', '4.29%']\n",
                        "['2009', '$0.11 B', '']\n",
                        "\n",
                        "DataFrame creado:\n",
                        "    Year   Revenue   Change\n",
                        "0   2024  $97.69 B    0.95%\n",
                        "1   2023  $96.77 B    18.8%\n",
                        "2   2022  $81.46 B   51.35%\n",
                        "3   2021  $53.82 B   70.67%\n",
                        "4   2020  $31.53 B   28.31%\n",
                        "5   2019  $24.57 B   14.52%\n",
                        "6   2018  $21.46 B   82.51%\n",
                        "7   2017  $11.75 B   67.98%\n",
                        "8   2016   $7.00 B   73.01%\n",
                        "9   2015   $4.04 B    26.5%\n",
                        "10  2014   $3.19 B   58.85%\n",
                        "11  2013   $2.01 B  387.23%\n",
                        "12  2012   $0.41 B  102.34%\n",
                        "13  2011   $0.20 B   74.95%\n",
                        "14  2010   $0.11 B    4.29%\n",
                        "15  2009   $0.11 B         \n"
                    ]
                }
            ],
            "source": [
                "import os\n",
                "from bs4 import BeautifulSoup\n",
                "import requests\n",
                "import time\n",
                "import sqlite3\n",
                "import matplotlib.pyplot as plt\n",
                "import seaborn as sns\n",
                "\n",
                "resource_url = \"https://companiesmarketcap.com/tesla/revenue\"\n",
                "\n",
                "response = requests.get(resource_url, time.sleep(10))\n",
                "\n",
                "\n",
                "if response:\n",
                "    soup = BeautifulSoup(response.text, 'html')\n",
                "    print(\"yes\")\n",
                "    soup\n",
                "\n",
                "table = soup.find(\"table\")  \n",
                "\n",
                "table\n",
                "\n",
                "if table:\n",
                "    print(\"Tabla encontrada\")\n",
                "    \n",
                "    rows = table.find_all(\"tr\")\n",
                "    \n",
                "    headers = [th.get_text(strip=True) for th in rows[0].find_all(\"th\")]\n",
                "    \n",
                "    data = []\n",
                "    for row in rows[1:]:\n",
                "        row_data = [td.get_text(strip=True) for td in row.find_all(\"td\")]\n",
                "        data.append(row_data)\n",
                "    \n",
                "    print(\"Encabezados:\", headers)\n",
                "    for row in data:\n",
                "        print(row)\n",
                "    \n",
                "    df = pd.DataFrame(data, columns=headers)\n",
                "    print(\"\\nDataFrame creado:\")\n",
                "    print(df)\n",
                "else:\n",
                "    print(\"No se encontró ninguna tabla en la página\")"
            ]
        }
    ],
    "metadata": {
        "kernelspec": {
            "display_name": "Python 3",
            "language": "python",
            "name": "python3"
        },
        "language_info": {
            "codemirror_mode": {
                "name": "ipython",
                "version": 3
            },
            "file_extension": ".py",
            "mimetype": "text/x-python",
            "name": "python",
            "nbconvert_exporter": "python",
            "pygments_lexer": "ipython3",
            "version": "3.11.4"
        },
        "orig_nbformat": 4
    },
    "nbformat": 4,
    "nbformat_minor": 2
}
